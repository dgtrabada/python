{
 "cells": [
  {
   "cell_type": "markdown",
   "metadata": {},
   "source": [
    "<b><font color='red'>Ejercicio 01</font></b>  "
   ]
  },
  {
   "cell_type": "markdown",
   "metadata": {},
   "source": [
    "Selecciona las primera columna de la matriz `p` proporcionada, y guárdala en la variable `p1`. Sustituye los elementos de p1 que sean iguales a 0, por el valor $7$."
   ]
  },
  {
   "cell_type": "code",
   "execution_count": 1,
   "metadata": {},
   "outputs": [
    {
     "name": "stdout",
     "output_type": "stream",
     "text": [
      "[[1 2 4]\n",
      " [0 0 0]\n",
      " [0 6 8]]\n",
      "[1 7 7]\n"
     ]
    }
   ],
   "source": [
    "import numpy as np\n",
    "p = np.array([[1,2,4],[0,0,0],[0,6,8]])\n",
    "print(p)\n",
    "\n",
    "p1 = p[:, 0]\n",
    "result = np.where(p1 == 0, 7, p1)\n",
    "\n",
    "print(result)"
   ]
  },
  {
   "cell_type": "markdown",
   "metadata": {},
   "source": [
    "<hr>\n",
    "<b><font color='red'>Ejercicio 02</font></b>  "
   ]
  },
  {
   "cell_type": "markdown",
   "metadata": {},
   "source": [
    "Obtener una función que calcule la distancia forman dos vectores\n",
    "\n",
    "$$\n",
    "v=[v_1,v_2,v_3,...]\n",
    "\\newline\n",
    "u=[u_1,u_2,u_3,...]\n",
    "\\newline\n",
    "d=\\sqrt{ (u_1-v_1)^2 + (u_2-v_2)^2 + (u_3-v_3)^2 + ... }\n",
    "$$"
   ]
  },
  {
   "cell_type": "code",
   "execution_count": 2,
   "metadata": {},
   "outputs": [
    {
     "name": "stdout",
     "output_type": "stream",
     "text": [
      "2.23606797749979\n"
     ]
    }
   ],
   "source": [
    "def d(v, u):\n",
    "    if(len(v) == len(u)):\n",
    "        calculo = np.linalg.norm(v -u) \n",
    "    return calculo\n",
    "\n",
    "v = np.array([1,-1])\n",
    "u = np.array([0,1])\n",
    "\n",
    "print(d(v,u)) # El resultado debería de ser 2.2360679775 "
   ]
  },
  {
   "cell_type": "markdown",
   "metadata": {},
   "source": [
    "<hr>\n",
    "<b><font color='red'>Ejercicio 03</font></b>  "
   ]
  },
  {
   "cell_type": "markdown",
   "metadata": {},
   "source": [
    "Obtener una función que calcule el coseno del ángulo que forman dos vectores\n",
    "\n",
    "$$ \\cos \\theta = \\frac{\\langle v, u \\rangle}{||v|| ||u||} $$\n",
    "\n",
    "donde $|| v ||$ es la norma del vector v, que se puede expresar como $\\sqrt{\\langle v, v \\rangle} = \\sqrt{ v_1^2 +  v_2^2 +  v_3^2 + ... }$ y el producto escalar $\\langle v, u \\rangle = v_1 u_1 + v_2 u_2 + ...$\n"
   ]
  },
  {
   "cell_type": "code",
   "execution_count": 3,
   "metadata": {},
   "outputs": [
    {
     "name": "stdout",
     "output_type": "stream",
     "text": [
      "-1.0\n"
     ]
    }
   ],
   "source": [
    "def cos(v, u):\n",
    "    dot = np.dot(v, u)\n",
    "    v_norm = np.linalg.norm(v)\n",
    "    u_norm = np.linalg.norm(u)\n",
    "\n",
    "    coseno = dot / (v_norm * u_norm)\n",
    "    return coseno\n",
    "\n",
    "v = np.array([0,-1])\n",
    "u = np.array([0,1])\n",
    "\n",
    "print(cos(v,u))  # El resultado debería de ser -1.0"
   ]
  },
  {
   "cell_type": "markdown",
   "metadata": {},
   "source": [
    "<hr>\n",
    "<b><font color='red'>Ejercicio 04</font></b>  \n",
    "\n",
    "Vuelve hacer el ejercicio que hicimos en el cápitulo anterior, utilizando las funciones de numpy:\n",
    "\n",
    "Crea una función que te devuelva la media y la desviación estándar de una lista ordenada.  \n",
    "Pruébalo con lista = [4, 1, 11, 13, 2, 7]  \n",
    "ayuda : https://es.wikipedia.org/wiki/Desviaci%C3%B3n_t%C3%ADpica"
   ]
  },
  {
   "cell_type": "code",
   "execution_count": 4,
   "metadata": {},
   "outputs": [
    {
     "name": "stdout",
     "output_type": "stream",
     "text": [
      "[4, 1, 11, 13, 2, 7]\n",
      "media = 6.33 ± 4.46\n"
     ]
    }
   ],
   "source": [
    "#hemos borrado las funciones, cambia el codígo siguiente\n",
    "\n",
    "lista = [4, 1, 11, 13, 2, 7]\n",
    "print(lista)\n",
    "\n",
    "def media(lista):\n",
    "    return np.mean(lista)\n",
    "\n",
    "def DES(lista):\n",
    "    return np.std(lista)\n",
    "\n",
    "print(f\"media = {(media(lista)):.2f} \\u00B1 {(DES(lista)):.2f}\")"
   ]
  },
  {
   "cell_type": "markdown",
   "metadata": {},
   "source": [
    "<hr>\n",
    "<b><font color='red'>Ejercicio 05</font></b>  \n",
    "\n",
    "Crear un array con 1 en el borde y  0 dentro"
   ]
  },
  {
   "cell_type": "code",
   "execution_count": 5,
   "metadata": {},
   "outputs": [
    {
     "name": "stdout",
     "output_type": "stream",
     "text": [
      "[[1. 1. 1. 1. 1. 1. 1. 1. 1. 1.]\n",
      " [1. 0. 0. 0. 0. 0. 0. 0. 0. 1.]\n",
      " [1. 0. 0. 0. 0. 0. 0. 0. 0. 1.]\n",
      " [1. 0. 0. 0. 0. 0. 0. 0. 0. 1.]\n",
      " [1. 0. 0. 0. 0. 0. 0. 0. 0. 1.]\n",
      " [1. 0. 0. 0. 0. 0. 0. 0. 0. 1.]\n",
      " [1. 0. 0. 0. 0. 0. 0. 0. 0. 1.]\n",
      " [1. 0. 0. 0. 0. 0. 0. 0. 0. 1.]\n",
      " [1. 0. 0. 0. 0. 0. 0. 0. 0. 1.]\n",
      " [1. 1. 1. 1. 1. 1. 1. 1. 1. 1.]]\n"
     ]
    }
   ],
   "source": [
    "array_zeros = np.zeros((10, 10))\n",
    "\n",
    "array_zeros[0, :] = 1\n",
    "array_zeros[:, 0] = 1\n",
    "array_zeros[-1, :] = 1\n",
    "array_zeros[:, -1] = 1\n",
    "\n",
    "\n",
    "print(array_zeros)\n",
    "# la salida tiene que ser:\n",
    "#array([[1., 1., 1., 1., 1., 1., 1., 1., 1., 1.],\n",
    "#      [1., 0., 0., 0., 0., 0., 0., 0., 0., 1.],\n",
    "#      [1., 0., 0., 0., 0., 0., 0., 0., 0., 1.],\n",
    "#      [1., 0., 0., 0., 0., 0., 0., 0., 0., 1.],\n",
    "#      [1., 0., 0., 0., 0., 0., 0., 0., 0., 1.],\n",
    "#      [1., 0., 0., 0., 0., 0., 0., 0., 0., 1.],\n",
    "#      [1., 0., 0., 0., 0., 0., 0., 0., 0., 1.],\n",
    "#      [1., 0., 0., 0., 0., 0., 0., 0., 0., 1.],\n",
    "#      [1., 0., 0., 0., 0., 0., 0., 0., 0., 1.],\n",
    "#      [1., 1., 1., 1., 1., 1., 1., 1., 1., 1.]])"
   ]
  },
  {
   "cell_type": "markdown",
   "metadata": {},
   "source": [
    "<hr>\n",
    "<b><font color='red'>Ejercicio 06</font></b>  \n",
    "\n",
    "Fíjate en el siguiente sistema de ecuaciones:\n",
    "$$-x+y=1 \\\\ x+y=3$$\n",
    "\n",
    "Escrito de forma matricial $(Ax = b)$:\n",
    "\n",
    "$$\n",
    "\\begin{pmatrix}\n",
    "-1 & 1\\\\\n",
    "1 & 1 \\\\\n",
    "\\end{pmatrix}\n",
    "\\begin{pmatrix}\n",
    "x\\\\\n",
    "y\\\\\n",
    "\\end{pmatrix}\n",
    "=\n",
    "\\begin{pmatrix}\n",
    "1\\\\\n",
    "3\\\\\n",
    "\\end{pmatrix}\n",
    "$$\n",
    "\n",
    "Podemos verla solución de forma gráfica\n",
    "\n",
    "<img src=\"ecuaciones.png\">\n",
    "\n",
    "Supongamos que tenemos un sistema de n ecuaciones lineales con n incógnitas. Podemos representar el sistema de forma matricial como:\n",
    "$$Ax=b$$\n",
    "Si el sistema tiene una única solución (es compatible determinado), entonces la matriz $A$ es regular (determinante distinto de 0) y, por tanto, existe su matriz inversa $A^{−1}$.\n",
    "Entonces, podemos multiplicar toda la ecuación por la inversa de $A^{−1}$:\n",
    "$$A^{-1}\\cdot Ax=A^{-1}\\cdot b$$\n",
    "$$x = A^{-1}\\cdot b$$\n",
    "Es decir, si la matriz $A$ es regular, entonces la matriz columna resultante del producto matricial $A^{−1} \\cdot b $ contiene la solución del sistema $Ax=b$. "
   ]
  },
  {
   "cell_type": "code",
   "execution_count": 6,
   "metadata": {},
   "outputs": [
    {
     "name": "stdout",
     "output_type": "stream",
     "text": [
      "Ainv * A=  [[1. 0.]\n",
      " [0. 1.]]\n",
      "[x , y]=  [1. 2.]\n"
     ]
    }
   ],
   "source": [
    "A = np.array([[-1,1], [1, 1]])\n",
    "b = np.array([1,3])\n",
    "\n",
    "#busca como np hace la inversa de una matriz\n",
    "det_A = np.linalg.det(A)\n",
    "if det_A != 0:\n",
    "    adj_A = np.linalg.inv(A).T * det_A\n",
    "    Ainv = adj_A / det_A\n",
    "\n",
    "#Cuando tengas la matriz Ainv descomenta las siguientes lineas para comprobar el resultado\n",
    "print(\"Ainv * A= \",np.dot(Ainv,A)) # la unidad\n",
    "print(\"[x , y]= \",np.dot(Ainv,b))  #solución = 1,2 (ver gráfico)\n"
   ]
  },
  {
   "cell_type": "markdown",
   "metadata": {},
   "source": [
    "<hr>\n",
    "<b><font color='red'>Ejercicio 07</font></b> \n",
    "\n",
    "Utilizando la matriz de transición vista en el ejemplo de (Cadenas de Markov), pongamos el caso de una población de 1000 habitantes que en un momento inicial compran 1000 procductos de la marca B, como sería la distribución de compras en la decima compra."
   ]
  },
  {
   "cell_type": "code",
   "execution_count": 7,
   "metadata": {},
   "outputs": [
    {
     "name": "stdout",
     "output_type": "stream",
     "text": [
      "La distribución en la décima compra sería:\n",
      "[120.3245154 101.9294727]\n"
     ]
    }
   ],
   "source": [
    "import numpy as np\n",
    "\n",
    "markov = np.array([[0.6, 0.3], [0.3, 0.5]])\n",
    "\n",
    "distribucion = np.array([1000, 0])\n",
    "\n",
    "for i in range(10):\n",
    "    distribucion = np.dot(distribucion, markov)\n",
    "\n",
    "print(\"La distribución en la décima compra sería:\")\n",
    "print(distribucion)\n"
   ]
  },
  {
   "cell_type": "markdown",
   "metadata": {},
   "source": [
    "<hr>\n",
    "<b><font color='red'>Ejercicio 08</font></b>\n",
    "\n",
    "En el siguiente juego, 3 niños y 3 niñas juegan a pasarse la pelota, si la probabilidad de pasar la pelota a la derecha o a su izquierda es la misma (1/2), crea la matriz de transición como hemos visto en clase, y obten la probabilidad de que la pelota llegue a 4 en la 3ª ronda si ha empezado en 1. \n",
    "\n",
    "sol : 0.25\n",
    "\n",
    "<img src=\"pelota.gif\">\n",
    "\n"
   ]
  },
  {
   "cell_type": "code",
   "execution_count": 8,
   "metadata": {},
   "outputs": [
    {
     "name": "stdout",
     "output_type": "stream",
     "text": [
      "[[0.  0.5 0.  0.  0.  0.5]\n",
      " [0.5 0.  0.5 0.  0.  0. ]\n",
      " [0.  0.5 0.  0.5 0.  0. ]\n",
      " [0.  0.  0.5 0.  0.5 0. ]\n",
      " [0.  0.  0.  0.5 0.  0.5]\n",
      " [0.5 0.  0.  0.  0.5 0. ]]\n",
      "La probabilidad de que la pelota llegue al 4º niño en la 3º ronda es:\n",
      "0.25\n"
     ]
    }
   ],
   "source": [
    "matriz = np.array([[0, 0.5, 0, 0, 0, 0.5],\n",
    "                   [0.5, 0, 0.5, 0, 0, 0],\n",
    "                   [0, 0.5, 0, 0.5, 0, 0],\n",
    "                   [0, 0, 0.5, 0, 0.5, 0],\n",
    "                   [0, 0, 0, 0.5, 0, 0.5],\n",
    "                   [0.5, 0, 0, 0, 0.5, 0]])\n",
    "\n",
    "print(matriz)\n",
    "\n",
    "distribucion = np.array([1, 0, 0, 0, 0, 0])\n",
    "\n",
    "for i in range(3):\n",
    "    distribucion = np.dot(distribucion, matriz)\n",
    "\n",
    "print(\"La probabilidad de que la pelota llegue al 4º niño en la 3º ronda es:\")\n",
    "print(distribucion[3])\n"
   ]
  },
  {
   "cell_type": "markdown",
   "metadata": {},
   "source": [
    "<hr>\n",
    "<b><font color='red'>Ejercicio 09</font></b>\n",
    "\n",
    "En 1674 G. Leibnitz da la serie:\n",
    "$$ \\frac{\\pi}{4} = 1-\\frac{1}{3}+\\frac{1}{5}-\\frac{1}{7}+\\frac{1}{9}+...$$\n",
    "Es decir que:\n",
    "$$ \\pi = 4-\\frac{4}{3}+\\frac{4}{5}-\\frac{4}{7}+\\frac{4}{9}+...$$\n",
    "Haz la serie hasta el termino $\\frac{4}{10000}$, el resultado es 3.14139265359...."
   ]
  },
  {
   "cell_type": "code",
   "execution_count": 4,
   "metadata": {},
   "outputs": [
    {
     "name": "stdout",
     "output_type": "stream",
     "text": [
      "3.1410926536210413\n"
     ]
    }
   ],
   "source": [
    "aprox = 0\n",
    "n = 1\n",
    "\n",
    "for n in range(1,4000,2):\n",
    "    leibnitz = 1 / n\n",
    "    if n % 4 == 1:\n",
    "        aprox += leibnitz\n",
    "    else:\n",
    "        aprox -= leibnitz\n",
    "\n",
    "\n",
    "\n",
    "resultado = 4 * aprox\n",
    "\n",
    "print(resultado)"
   ]
  },
  {
   "cell_type": "code",
   "execution_count": null,
   "metadata": {},
   "outputs": [],
   "source": []
  }
 ],
 "metadata": {
  "kernelspec": {
   "display_name": "fireballpy_kernel",
   "language": "python",
   "name": "fireballpy_kernel"
  },
  "language_info": {
   "codemirror_mode": {
    "name": "ipython",
    "version": 3
   },
   "file_extension": ".py",
   "mimetype": "text/x-python",
   "name": "python",
   "nbconvert_exporter": "python",
   "pygments_lexer": "ipython3",
   "version": "3.12.3"
  }
 },
 "nbformat": 4,
 "nbformat_minor": 4
}
