{
 "cells": [
  {
   "cell_type": "markdown",
   "metadata": {},
   "source": [
    "<hr>\n",
    "<b><font color='red'>Ejercicio 01</font></b>  "
   ]
  },
  {
   "cell_type": "code",
   "execution_count": 19,
   "metadata": {},
   "outputs": [
    {
     "data": {
      "text/html": [
       "<div>\n",
       "<style scoped>\n",
       "    .dataframe tbody tr th:only-of-type {\n",
       "        vertical-align: middle;\n",
       "    }\n",
       "\n",
       "    .dataframe tbody tr th {\n",
       "        vertical-align: top;\n",
       "    }\n",
       "\n",
       "    .dataframe thead th {\n",
       "        text-align: right;\n",
       "    }\n",
       "</style>\n",
       "<table border=\"1\" class=\"dataframe\">\n",
       "  <thead>\n",
       "    <tr style=\"text-align: right;\">\n",
       "      <th></th>\n",
       "      <th>cuenta</th>\n",
       "      <th>propina</th>\n",
       "      <th>sex</th>\n",
       "      <th>fumador</th>\n",
       "      <th>día</th>\n",
       "      <th>hora</th>\n",
       "      <th>tamaño</th>\n",
       "    </tr>\n",
       "  </thead>\n",
       "  <tbody>\n",
       "    <tr>\n",
       "      <th>0</th>\n",
       "      <td>16.99</td>\n",
       "      <td>1.01</td>\n",
       "      <td>Mujer</td>\n",
       "      <td>No</td>\n",
       "      <td>Domingo</td>\n",
       "      <td>Comida</td>\n",
       "      <td>2</td>\n",
       "    </tr>\n",
       "    <tr>\n",
       "      <th>1</th>\n",
       "      <td>10.34</td>\n",
       "      <td>1.66</td>\n",
       "      <td>Hombre</td>\n",
       "      <td>No</td>\n",
       "      <td>Domingo</td>\n",
       "      <td>Comida</td>\n",
       "      <td>3</td>\n",
       "    </tr>\n",
       "    <tr>\n",
       "      <th>2</th>\n",
       "      <td>21.01</td>\n",
       "      <td>3.50</td>\n",
       "      <td>Hombre</td>\n",
       "      <td>No</td>\n",
       "      <td>Domingo</td>\n",
       "      <td>Comida</td>\n",
       "      <td>3</td>\n",
       "    </tr>\n",
       "    <tr>\n",
       "      <th>3</th>\n",
       "      <td>23.68</td>\n",
       "      <td>3.31</td>\n",
       "      <td>Hombre</td>\n",
       "      <td>No</td>\n",
       "      <td>Domingo</td>\n",
       "      <td>Comida</td>\n",
       "      <td>2</td>\n",
       "    </tr>\n",
       "    <tr>\n",
       "      <th>4</th>\n",
       "      <td>24.59</td>\n",
       "      <td>3.61</td>\n",
       "      <td>Mujer</td>\n",
       "      <td>No</td>\n",
       "      <td>Domingo</td>\n",
       "      <td>Comida</td>\n",
       "      <td>4</td>\n",
       "    </tr>\n",
       "  </tbody>\n",
       "</table>\n",
       "</div>"
      ],
      "text/plain": [
       "   cuenta  propina     sex fumador      día    hora  tamaño\n",
       "0   16.99     1.01   Mujer      No  Domingo  Comida       2\n",
       "1   10.34     1.66  Hombre      No  Domingo  Comida       3\n",
       "2   21.01     3.50  Hombre      No  Domingo  Comida       3\n",
       "3   23.68     3.31  Hombre      No  Domingo  Comida       2\n",
       "4   24.59     3.61   Mujer      No  Domingo  Comida       4"
      ]
     },
     "execution_count": 19,
     "metadata": {},
     "output_type": "execute_result"
    }
   ],
   "source": [
    "tips = pd.read_csv('../09_Pandas/cuentas.csv')\n",
    "tips.head()"
   ]
  },
  {
   "cell_type": "code",
   "execution_count": 20,
   "metadata": {},
   "outputs": [],
   "source": [
    "stat = smf.ols('propina ~ cuenta + sex + fumador + día + tamaño', tips).fit()"
   ]
  },
  {
   "cell_type": "code",
   "execution_count": 21,
   "metadata": {},
   "outputs": [
    {
     "data": {
      "text/html": [
       "<table class=\"simpletable\">\n",
       "<tr>\n",
       "         <td></td>           <th>coef</th>     <th>std err</th>      <th>t</th>      <th>P>|t|</th>  <th>[0.025</th>    <th>0.975]</th>  \n",
       "</tr>\n",
       "<tr>\n",
       "  <th>Intercept</th>      <td>    0.7466</td> <td>    0.247</td> <td>    3.021</td> <td> 0.003</td> <td>    0.260</td> <td>    1.234</td>\n",
       "</tr>\n",
       "<tr>\n",
       "  <th>sex[T.Mujer]</th>   <td>    0.0324</td> <td>    0.141</td> <td>    0.230</td> <td> 0.819</td> <td>   -0.246</td> <td>    0.311</td>\n",
       "</tr>\n",
       "<tr>\n",
       "  <th>fumador[T.Yes]</th> <td>   -0.0849</td> <td>    0.146</td> <td>   -0.581</td> <td> 0.561</td> <td>   -0.372</td> <td>    0.203</td>\n",
       "</tr>\n",
       "<tr>\n",
       "  <th>día[T.Jueves]</th>  <td>   -0.0701</td> <td>    0.181</td> <td>   -0.386</td> <td> 0.700</td> <td>   -0.428</td> <td>    0.287</td>\n",
       "</tr>\n",
       "<tr>\n",
       "  <th>día[T.Sábado]</th>  <td>   -0.0962</td> <td>    0.166</td> <td>   -0.581</td> <td> 0.562</td> <td>   -0.422</td> <td>    0.230</td>\n",
       "</tr>\n",
       "<tr>\n",
       "  <th>día[T.Viernes]</th> <td>    0.0497</td> <td>    0.279</td> <td>    0.178</td> <td> 0.859</td> <td>   -0.500</td> <td>    0.600</td>\n",
       "</tr>\n",
       "<tr>\n",
       "  <th>cuenta</th>         <td>    0.0943</td> <td>    0.010</td> <td>    9.922</td> <td> 0.000</td> <td>    0.076</td> <td>    0.113</td>\n",
       "</tr>\n",
       "<tr>\n",
       "  <th>tamaño</th>         <td>    0.1770</td> <td>    0.089</td> <td>    1.987</td> <td> 0.048</td> <td>    0.001</td> <td>    0.353</td>\n",
       "</tr>\n",
       "</table>"
      ],
      "text/plain": [
       "<class 'statsmodels.iolib.table.SimpleTable'>"
      ]
     },
     "execution_count": 21,
     "metadata": {},
     "output_type": "execute_result"
    }
   ],
   "source": [
    "stat.summary().tables[1]"
   ]
  },
  {
   "cell_type": "markdown",
   "metadata": {},
   "source": [
    "<hr>\n",
    "<b><font color='red'>Ejercicio 03</font></b> "
   ]
  },
  {
   "cell_type": "code",
   "execution_count": 27,
   "metadata": {},
   "outputs": [
    {
     "data": {
      "text/html": [
       "<div>\n",
       "<style scoped>\n",
       "    .dataframe tbody tr th:only-of-type {\n",
       "        vertical-align: middle;\n",
       "    }\n",
       "\n",
       "    .dataframe tbody tr th {\n",
       "        vertical-align: top;\n",
       "    }\n",
       "\n",
       "    .dataframe thead th {\n",
       "        text-align: right;\n",
       "    }\n",
       "</style>\n",
       "<table border=\"1\" class=\"dataframe\">\n",
       "  <thead>\n",
       "    <tr style=\"text-align: right;\">\n",
       "      <th></th>\n",
       "      <th>número de artículos</th>\n",
       "      <th>precio</th>\n",
       "      <th>sexo</th>\n",
       "      <th>día</th>\n",
       "    </tr>\n",
       "  </thead>\n",
       "  <tbody>\n",
       "    <tr>\n",
       "      <th>0</th>\n",
       "      <td>27</td>\n",
       "      <td>42.15</td>\n",
       "      <td>Mujer</td>\n",
       "      <td>jueves</td>\n",
       "    </tr>\n",
       "    <tr>\n",
       "      <th>1</th>\n",
       "      <td>26</td>\n",
       "      <td>60.26</td>\n",
       "      <td>Mujer</td>\n",
       "      <td>jueves</td>\n",
       "    </tr>\n",
       "    <tr>\n",
       "      <th>2</th>\n",
       "      <td>20</td>\n",
       "      <td>28.12</td>\n",
       "      <td>Hombre</td>\n",
       "      <td>miércoles</td>\n",
       "    </tr>\n",
       "    <tr>\n",
       "      <th>3</th>\n",
       "      <td>24</td>\n",
       "      <td>47.48</td>\n",
       "      <td>Hombre</td>\n",
       "      <td>domingo</td>\n",
       "    </tr>\n",
       "    <tr>\n",
       "      <th>4</th>\n",
       "      <td>17</td>\n",
       "      <td>50.88</td>\n",
       "      <td>Mujer</td>\n",
       "      <td>sábado</td>\n",
       "    </tr>\n",
       "  </tbody>\n",
       "</table>\n",
       "</div>"
      ],
      "text/plain": [
       "   número de artículos  precio    sexo        día\n",
       "0                   27   42.15   Mujer     jueves\n",
       "1                   26   60.26   Mujer     jueves\n",
       "2                   20   28.12  Hombre  miércoles\n",
       "3                   24   47.48  Hombre    domingo\n",
       "4                   17   50.88   Mujer     sábado"
      ]
     },
     "execution_count": 27,
     "metadata": {},
     "output_type": "execute_result"
    }
   ],
   "source": [
    "supermk = pd.read_csv('../09_Pandas/super.csv')\n",
    "supermk.head()"
   ]
  },
  {
   "cell_type": "code",
   "execution_count": 36,
   "metadata": {},
   "outputs": [],
   "source": [
    "stat = smf.ols('precio ~ sexo + día', supermk).fit()"
   ]
  },
  {
   "cell_type": "code",
   "execution_count": null,
   "metadata": {},
   "outputs": [],
   "source": []
  }
 ],
 "metadata": {
  "kernelspec": {
   "display_name": "Python 3",
   "language": "python",
   "name": "python3"
  },
  "language_info": {
   "codemirror_mode": {
    "name": "ipython",
    "version": 3
   },
   "file_extension": ".py",
   "mimetype": "text/x-python",
   "name": "python",
   "nbconvert_exporter": "python",
   "pygments_lexer": "ipython3",
   "version": "3.8.10"
  }
 },
 "nbformat": 4,
 "nbformat_minor": 4
}
