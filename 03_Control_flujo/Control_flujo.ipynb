{
 "cells": [
  {
   "cell_type": "markdown",
   "id": "faaf0aee",
   "metadata": {},
   "source": [
    "# Funciones, condicionales y bucles"
   ]
  },
  {
   "cell_type": "markdown",
   "id": "48ebbb44",
   "metadata": {},
   "source": [
    "## Funciones"
   ]
  },
  {
   "cell_type": "code",
   "execution_count": 1,
   "id": "23ce11c2",
   "metadata": {},
   "outputs": [
    {
     "name": "stdout",
     "output_type": "stream",
     "text": [
      "4\n"
     ]
    }
   ],
   "source": [
    "def f(x):\n",
    "    return x*x\n",
    "\n",
    "x=2\n",
    "print(f(x))"
   ]
  },
  {
   "cell_type": "code",
   "execution_count": 2,
   "id": "29692c4d",
   "metadata": {},
   "outputs": [
    {
     "name": "stdout",
     "output_type": "stream",
     "text": [
      "es mayor\n"
     ]
    }
   ],
   "source": [
    "def f(x,y):\n",
    "    if x < y :\n",
    "        print (\"es mayor\")\n",
    "\n",
    "f(1,2)        # es mayor\n",
    "f(2,1)        #\n",
    "f(1,1)        #"
   ]
  },
  {
   "cell_type": "code",
   "execution_count": 3,
   "id": "8d6f1356",
   "metadata": {},
   "outputs": [
    {
     "name": "stdout",
     "output_type": "stream",
     "text": [
      "es mayor\n",
      "es menor\n",
      "es menor\n"
     ]
    }
   ],
   "source": [
    "def f(x,y):\n",
    "    if x < y :\n",
    "        print (\"es mayor\")\n",
    "    else:\n",
    "        print (\"es menor\")\n",
    "\n",
    "f(1,2)        # es mayor\n",
    "f(2,1)        # es menor\n",
    "f(1,1)        # es menor"
   ]
  },
  {
   "cell_type": "code",
   "execution_count": 4,
   "id": "cc288038",
   "metadata": {},
   "outputs": [
    {
     "name": "stdout",
     "output_type": "stream",
     "text": [
      "es mayor\n",
      "es menor\n",
      "es igual\n",
      "es mayor\n",
      "es menor\n",
      "es igual\n"
     ]
    }
   ],
   "source": [
    "def f(x,y):\n",
    "    if x < y :\n",
    "        print (\"es mayor\")\n",
    "    elif x == y:\n",
    "        print (\"es igual\")\n",
    "    else:\n",
    "        print (\"es menor\")\n",
    "\n",
    "f(1,2)        # es mayor\n",
    "f(2,1)        # es menor\n",
    "f(1,1)        # es igual\n",
    "\n",
    "f(\"A\",\"B\")    # es mayor\n",
    "f(\"B\",\"A\")    # es menor\n",
    "f(\"A\",\"A\")    # es igual"
   ]
  },
  {
   "cell_type": "code",
   "execution_count": 5,
   "id": "651f8c66",
   "metadata": {},
   "outputs": [
    {
     "name": "stdout",
     "output_type": "stream",
     "text": [
      "entre 0-10\n",
      "entre 20-30\n"
     ]
    }
   ],
   "source": [
    "def f(x):\n",
    "    if x > 0  and x <= 10 :\n",
    "        print (\"entre 0-10\") \n",
    "    if x > 10  and x <= 20 :\n",
    "        print (\"entre 10-20\") \n",
    "    if x > 20  and x <= 30 :\n",
    "        print (\"entre 20-30\") \n",
    "    if x > 30  and x <= 40 :\n",
    "        print (\"entre 30-40\") \n",
    "\n",
    "f(1)          # entre 0-10\n",
    "f(22)         # entre 20-30"
   ]
  },
  {
   "cell_type": "markdown",
   "id": "8dffa2f5",
   "metadata": {},
   "source": [
    "podríamos pasar varios valores que retornar"
   ]
  },
  {
   "cell_type": "code",
   "execution_count": 6,
   "id": "0e580060",
   "metadata": {},
   "outputs": [
    {
     "name": "stdout",
     "output_type": "stream",
     "text": [
      "2\n",
      "6\n"
     ]
    }
   ],
   "source": [
    "def f(x, y):\n",
    "    return x * 2, y * 3\n",
    "\n",
    "a, b = f(1, 2)\n",
    "print(a)      # 2\n",
    "print(b)      # 6"
   ]
  },
  {
   "cell_type": "markdown",
   "id": "53a99975",
   "metadata": {},
   "source": [
    "### Funcion anónima lambda\n",
    "Primero declaramos la función lambda que será guardada en una variable y le pasamos los parámetros que vamos a necesitar y después solo tenemos que realizar la acción que necesitamos."
   ]
  },
  {
   "cell_type": "code",
   "execution_count": 7,
   "id": "589bf0ef",
   "metadata": {},
   "outputs": [
    {
     "name": "stdout",
     "output_type": "stream",
     "text": [
      "4\n",
      "10\n"
     ]
    }
   ],
   "source": [
    "y = lambda x : x * x\n",
    "print(y(2))   # 4\n",
    "\n",
    "y= lambda x , y : x * y\n",
    "print(y(2,5)) # 10"
   ]
  },
  {
   "cell_type": "markdown",
   "id": "a2f31a95-89b9-49a6-b5f7-c8c8d0cbc4dd",
   "metadata": {},
   "source": [
    "### Parámetros por defecto"
   ]
  },
  {
   "cell_type": "code",
   "execution_count": 8,
   "id": "74f950a4-c3e4-4a1c-b5b1-0813fc98facd",
   "metadata": {},
   "outputs": [
    {
     "name": "stdout",
     "output_type": "stream",
     "text": [
      "Hola Juan\n",
      "Adios Juan\n"
     ]
    }
   ],
   "source": [
    "def saludo(nombre, mensaje=\"Hola\"):\n",
    "    return f\"{mensaje} {nombre}\"\n",
    "\n",
    "print(saludo(\"Juan\"))              # \"Hola Juan\"\n",
    "print(saludo(\"Juan\", \"Adios\"))     # \"Adios Juan\""
   ]
  },
  {
   "cell_type": "markdown",
   "id": "bdc3171c-f3d0-4bf4-9994-feb2316e59d9",
   "metadata": {},
   "source": [
    "### Argumentos arbitrarios (*args)"
   ]
  },
  {
   "cell_type": "code",
   "execution_count": 9,
   "id": "08d794fd-31c4-4e54-97cf-968a4d778869",
   "metadata": {},
   "outputs": [
    {
     "name": "stdout",
     "output_type": "stream",
     "text": [
      "6\n",
      "15\n",
      "Nombre: Ana\n",
      "Números: (1, 2, 3, 4)\n"
     ]
    }
   ],
   "source": [
    "def sumar_todo(*args):\n",
    "    return sum(args)\n",
    "\n",
    "print(sumar_todo(1, 2, 3))       # 6\n",
    "print(sumar_todo(1, 2, 3, 4, 5)) # 15\n",
    "\n",
    "def funcion(nombre, *numeros):\n",
    "    print(f\"Nombre: {nombre}\")\n",
    "    print(f\"Números: {numeros}\")\n",
    "\n",
    "funcion(\"Ana\", 1, 2, 3, 4)"
   ]
  },
  {
   "cell_type": "markdown",
   "id": "03fef62b-8709-4fad-8c1e-cc6cb46e2554",
   "metadata": {},
   "source": [
    "### Keyword arguments arbitrarios (kwargs)**\n",
    "\n",
    "Permite pasar un número variable de argumentos con nombre a una función. Recoge todos los argumentos que no fueron capturados por otros parámetros en un diccionario."
   ]
  },
  {
   "cell_type": "code",
   "execution_count": 10,
   "id": "b966d9e9-269d-4bae-ad8b-c0ef1c4fceb1",
   "metadata": {},
   "outputs": [
    {
     "name": "stdout",
     "output_type": "stream",
     "text": [
      "nombre: Ana\n",
      "edad: 25\n",
      "ciudad: Madrid\n",
      "{'nombre': 'Ana', 'edad': 25, 'ciudad': 'Madrid'}\n",
      "a: 1, b: 2\n",
      "args: (3, 4, 5)\n",
      "kwargs: {'nombre': 'Juan', 'edad': 30}\n"
     ]
    }
   ],
   "source": [
    "def mostrar_info(**kwargs):\n",
    "    for key, value in kwargs.items():\n",
    "        print(f\"{key}: {value}\")\n",
    "    print(kwargs)\n",
    "\n",
    "mostrar_info(nombre=\"Ana\", edad=25, ciudad=\"Madrid\")\n",
    "\n",
    "# ERROR: def combinacion(*args, **kwargs, a, b=10):\n",
    "def combinacion(a, b=10, *args, **kwargs):\n",
    "    print(f\"a: {a}, b: {b}\")\n",
    "    print(f\"args: {args}\")\n",
    "    print(f\"kwargs: {kwargs}\")\n",
    "\n",
    "combinacion(1, 2, 3, 4, 5, nombre=\"Juan\", edad=30)"
   ]
  },
  {
   "cell_type": "markdown",
   "id": "e36a98de-130c-4ddc-9b26-9be4dedb5297",
   "metadata": {},
   "source": [
    "### Desempaquetado de argumentos"
   ]
  },
  {
   "cell_type": "code",
   "execution_count": 11,
   "id": "99f1fc23-20a6-4d05-b626-abaf5826c250",
   "metadata": {},
   "outputs": [
    {
     "name": "stdout",
     "output_type": "stream",
     "text": [
      "6\n",
      "6\n"
     ]
    }
   ],
   "source": [
    "def funcion(a, b, c):    \n",
    "    print (a + b + c)\n",
    "\n",
    "# Desempaquetar lista/tupla con *\n",
    "lista = [1, 2, 3]\n",
    "funcion(*lista)  # equivalente a funcion(1, 2, 3)\n",
    "\n",
    "# Desempaquetar diccionario con **\n",
    "diccio = {'a': 1, 'b': 2, 'c': 3}\n",
    "funcion(**diccio)  # equivalente a funcion(a=1, b=2, c=3)"
   ]
  },
  {
   "cell_type": "markdown",
   "id": "63a014b4",
   "metadata": {},
   "source": [
    "###  Función recursiva\n",
    "Las funciones recursivas son funciones que se llaman a sí mismas durante su propia ejecución."
   ]
  },
  {
   "cell_type": "code",
   "execution_count": 12,
   "id": "c4afa61c",
   "metadata": {},
   "outputs": [
    {
     "name": "stdout",
     "output_type": "stream",
     "text": [
      "120\n"
     ]
    }
   ],
   "source": [
    "def factorial(numero):\n",
    "    if numero > 1:\n",
    "        numero = numero * factorial(numero -1)\n",
    "    return numero\n",
    "\n",
    "print(factorial(5))"
   ]
  },
  {
   "cell_type": "markdown",
   "id": "68e82db5",
   "metadata": {},
   "source": [
    "## Bucles"
   ]
  },
  {
   "cell_type": "markdown",
   "id": "39aaf23d",
   "metadata": {},
   "source": [
    "### while\n",
    "El bucle while (mientras) ejecuta un fragmento de código mientras se cumpla una condición\n"
   ]
  },
  {
   "cell_type": "code",
   "execution_count": 13,
   "id": "cf23c7bb",
   "metadata": {},
   "outputs": [
    {
     "name": "stdout",
     "output_type": "stream",
     "text": [
      "tiempo = 5\n"
     ]
    }
   ],
   "source": [
    "tiempo = 0\n",
    "while tiempo < 5:\n",
    "    tiempo = tiempo + 1\n",
    "print ('tiempo = '+ str(tiempo))"
   ]
  },
  {
   "cell_type": "code",
   "execution_count": 14,
   "id": "ab3c0d1e",
   "metadata": {},
   "outputs": [
    {
     "name": "stdout",
     "output_type": "stream",
     "text": [
      "tiempo = 5\n"
     ]
    }
   ],
   "source": [
    "continua=True\n",
    "tiempo=0\n",
    "while continua:\n",
    "    tiempo = tiempo + 1\n",
    "    if tiempo > 4:\n",
    "        continua=False\n",
    "print ('tiempo = '+ str(tiempo))"
   ]
  },
  {
   "cell_type": "code",
   "execution_count": 15,
   "id": "212f55f5",
   "metadata": {},
   "outputs": [
    {
     "name": "stdout",
     "output_type": "stream",
     "text": [
      "tiempo = 5\n"
     ]
    }
   ],
   "source": [
    "tiempo=0\n",
    "while True:\n",
    "    tiempo = tiempo + 1\n",
    "    if tiempo > 4:\n",
    "        break\n",
    "print ('tiempo = '+ str(tiempo))"
   ]
  },
  {
   "cell_type": "markdown",
   "id": "2c635a4c",
   "metadata": {},
   "source": [
    "### for ... in"
   ]
  },
  {
   "cell_type": "code",
   "execution_count": 16,
   "id": "3fc461e8",
   "metadata": {},
   "outputs": [
    {
     "name": "stdout",
     "output_type": "stream",
     "text": [
      "uno\n",
      "dos\n",
      "tres\n"
     ]
    }
   ],
   "source": [
    "secuencia = ['uno', 'dos', 'tres']\n",
    "for i in secuencia:\n",
    "    print (i)"
   ]
  },
  {
   "cell_type": "code",
   "execution_count": 17,
   "id": "e4b6d3d4",
   "metadata": {},
   "outputs": [
    {
     "name": "stdout",
     "output_type": "stream",
     "text": [
      "uno\n",
      "dos\n",
      "tres\n"
     ]
    }
   ],
   "source": [
    "for i in range(0,len(secuencia)):\n",
    "    print(secuencia[i])"
   ]
  },
  {
   "cell_type": "code",
   "execution_count": 18,
   "id": "8143e78a",
   "metadata": {},
   "outputs": [
    {
     "name": "stdout",
     "output_type": "stream",
     "text": [
      "0\n",
      "1\n",
      "2\n",
      "3\n"
     ]
    }
   ],
   "source": [
    "for i in range(0,4):\n",
    "    print(i)"
   ]
  },
  {
   "cell_type": "code",
   "execution_count": 19,
   "id": "ad6cf75b",
   "metadata": {},
   "outputs": [
    {
     "name": "stdout",
     "output_type": "stream",
     "text": [
      "0\n",
      "2\n"
     ]
    }
   ],
   "source": [
    "for i in range(0,4,2): #range(start, stop, step) \n",
    "    print(i)"
   ]
  },
  {
   "cell_type": "code",
   "execution_count": 20,
   "id": "1e35cfd4-4449-4688-8f32-ced151d3bd4f",
   "metadata": {},
   "outputs": [
    {
     "name": "stdout",
     "output_type": "stream",
     "text": [
      "0\n",
      "1\n",
      "2\n",
      "3\n",
      "4\n"
     ]
    }
   ],
   "source": [
    "for i in range(10):\n",
    "    if i == 5:\n",
    "        break  # Sale del bucle cuando i es 5\n",
    "    print(i)"
   ]
  },
  {
   "cell_type": "code",
   "execution_count": 21,
   "id": "d4f5d513-6cff-4cbf-a6b0-e3275dd885af",
   "metadata": {},
   "outputs": [
    {
     "name": "stdout",
     "output_type": "stream",
     "text": [
      "1\n",
      "3\n",
      "5\n",
      "7\n",
      "9\n"
     ]
    }
   ],
   "source": [
    "for i in range(10):\n",
    "    if i % 2 == 0:  # Si es par\n",
    "        continue    # Salta los números pares\n",
    "    print(i)        # Solo imprime impares"
   ]
  },
  {
   "cell_type": "code",
   "execution_count": 22,
   "id": "5af042b1",
   "metadata": {},
   "outputs": [
    {
     "name": "stdout",
     "output_type": "stream",
     "text": [
      "uno 0 [1, 2, 3]\n",
      "dos 4 [4, 5]\n",
      "tres 8 [6]\n"
     ]
    }
   ],
   "source": [
    "for i,j,k in zip(['uno', 'dos', 'tres'],range(0,24,4),[[1,2,3],[4,5],[6]]):\n",
    "    print(i,j,k)"
   ]
  },
  {
   "cell_type": "code",
   "execution_count": 23,
   "id": "9c28eb6a",
   "metadata": {},
   "outputs": [
    {
     "name": "stdout",
     "output_type": "stream",
     "text": [
      "0 2\n",
      "0 4\n"
     ]
    }
   ],
   "source": [
    "for i,j in (range(0,4,2),range(0,8,4)):\n",
    "    print(i,j)"
   ]
  },
  {
   "cell_type": "markdown",
   "id": "7122116e",
   "metadata": {},
   "source": [
    "Generar todas las permutaciones de todas las longitudes posibles de una lista dada."
   ]
  },
  {
   "cell_type": "code",
   "execution_count": 24,
   "id": "1890b267",
   "metadata": {},
   "outputs": [
    {
     "name": "stdout",
     "output_type": "stream",
     "text": [
      "[(1, 2), (1, 3), (2, 1), (2, 3), (3, 1), (3, 2)]\n"
     ]
    }
   ],
   "source": [
    "import itertools\n",
    "inp_list = [1, 2, 3]\n",
    "permutations = list(itertools.permutations(inp_list, r=2))\n",
    "print(permutations)"
   ]
  },
  {
   "cell_type": "code",
   "execution_count": 25,
   "id": "2d65a523",
   "metadata": {},
   "outputs": [
    {
     "name": "stdout",
     "output_type": "stream",
     "text": [
      "[(1, 2), (1, 3), (2, 3)]\n"
     ]
    }
   ],
   "source": [
    "import itertools\n",
    "inp_list = [1, 2, 3]\n",
    "combinations = list(itertools.combinations(inp_list, r=2))\n",
    "print(combinations)"
   ]
  },
  {
   "cell_type": "code",
   "execution_count": 26,
   "id": "8b0179ff",
   "metadata": {},
   "outputs": [
    {
     "name": "stdout",
     "output_type": "stream",
     "text": [
      "[(1, 2, 3), (1, 3, 2), (2, 1, 3), (2, 3, 1), (3, 1, 2), (3, 2, 1)]\n"
     ]
    }
   ],
   "source": [
    "inp_list = [1, 2, 3]\n",
    "permutations = list(itertools.permutations(inp_list, r=3))\n",
    "print(permutations)"
   ]
  },
  {
   "cell_type": "code",
   "execution_count": 27,
   "id": "f179e32f",
   "metadata": {},
   "outputs": [
    {
     "name": "stdout",
     "output_type": "stream",
     "text": [
      "[([1, 'a'], [2, 'b'], [3, 'c']), ([1, 'a'], [3, 'c'], [2, 'b']), ([2, 'b'], [1, 'a'], [3, 'c']), ([2, 'b'], [3, 'c'], [1, 'a']), ([3, 'c'], [1, 'a'], [2, 'b']), ([3, 'c'], [2, 'b'], [1, 'a'])]\n"
     ]
    }
   ],
   "source": [
    "inp_list = [[1,'a'],[2,'b'],[3,'c']]\n",
    "permutations = list(itertools.permutations(inp_list, r=3))\n",
    "print(permutations)"
   ]
  }
 ],
 "metadata": {
  "kernelspec": {
   "display_name": "Python 3 (ipykernel)",
   "language": "python",
   "name": "python3"
  },
  "language_info": {
   "codemirror_mode": {
    "name": "ipython",
    "version": 3
   },
   "file_extension": ".py",
   "mimetype": "text/x-python",
   "name": "python",
   "nbconvert_exporter": "python",
   "pygments_lexer": "ipython3",
   "version": "3.12.2"
  }
 },
 "nbformat": 4,
 "nbformat_minor": 5
}
